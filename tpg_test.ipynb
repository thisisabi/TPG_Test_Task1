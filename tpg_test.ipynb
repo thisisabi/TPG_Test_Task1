{
 "cells": [
  {
   "cell_type": "markdown",
   "id": "f20739d7",
   "metadata": {},
   "source": [
    "# TPG Test - Rough sheet for EDA and Bonus Task"
   ]
  },
  {
   "cell_type": "markdown",
   "id": "e8bdc2f9",
   "metadata": {},
   "source": [
    "### Task 1 - Modelling\n",
    "\n",
    "Build a standalone python program (.py) that can be executed in command-line (such as Terminal, Powershell, etc.). Choose one of the tasks below. Note that, the bonus task is not compulsory, but highly recommended to attempt.\n",
    "\n",
    "`a.` Explore the dataset on the basic statistics, produce a classification model to predict the product category, and present the findings as well as the performance of the model.\n",
    "\n",
    "`b.` Explore the dataset on the basic statistics, produce a model to predict the customer ratings, and present the findings as well the performance of the model.\n",
    "\n",
    "`bonus points.` build an engine that recommends top 5 products (i.e. product_id) to the customers in the `test` dataset.\n",
    "\n",
    "---\n",
    "\n",
    "`Hint.` **Using PySpark and Syntax would be highly recommended to complete this exercise, with the consideration of handling big-sized datasets.**"
   ]
  },
  {
   "cell_type": "code",
   "execution_count": null,
   "id": "5e2c279d",
   "metadata": {},
   "outputs": [],
   "source": [
    "# !pip install spacy"
   ]
  },
  {
   "cell_type": "code",
   "execution_count": null,
   "id": "399a4fdc",
   "metadata": {},
   "outputs": [],
   "source": [
    "# !pip install --user -U nltk"
   ]
  },
  {
   "cell_type": "code",
   "execution_count": null,
   "id": "4f158399",
   "metadata": {},
   "outputs": [],
   "source": [
    "# import sys\n",
    "# !{sys.executable} -m spacy download en_core_web_sm"
   ]
  },
  {
   "cell_type": "code",
   "execution_count": 1,
   "id": "4a0a4bae",
   "metadata": {},
   "outputs": [],
   "source": [
    "import pandas as pd\n",
    "import seaborn as sns\n",
    "import matplotlib.pyplot as plt\n",
    "import numpy as np\n",
    "from surprise import Dataset\n",
    "from surprise import Reader\n",
    "from surprise import SVD\n",
    "from surprise.model_selection import cross_validate\n",
    "from surprise.model_selection import GridSearchCV\n",
    "from sklearn.metrics import accuracy_score\n",
    "from sklearn.metrics import classification_report\n",
    "from sklearn.metrics import f1_score\n",
    "from sklearn.feature_extraction.text import CountVectorizer, TfidfVectorizer\n",
    "from sklearn.base import TransformerMixin\n",
    "from sklearn.pipeline import Pipeline\n",
    "from sklearn.linear_model import LogisticRegression\n",
    "from sklearn.model_selection import train_test_split\n",
    "from nltk.corpus import stopwords\n",
    "from sklearn.naive_bayes import MultinomialNB\n",
    "\n",
    "import string\n",
    "import spacy\n",
    "from spacy.lang.en import English\n",
    "from spacy.lang.en.stop_words import STOP_WORDS\n",
    "\n",
    "%matplotlib inline"
   ]
  },
  {
   "cell_type": "code",
   "execution_count": 2,
   "id": "f65a494b",
   "metadata": {},
   "outputs": [],
   "source": [
    "df = pd.read_json(\"data/train_test/dataset_en_train.json\", lines=True)"
   ]
  },
  {
   "cell_type": "code",
   "execution_count": 3,
   "id": "7b85553c",
   "metadata": {},
   "outputs": [
    {
     "data": {
      "text/html": [
       "<div>\n",
       "<style scoped>\n",
       "    .dataframe tbody tr th:only-of-type {\n",
       "        vertical-align: middle;\n",
       "    }\n",
       "\n",
       "    .dataframe tbody tr th {\n",
       "        vertical-align: top;\n",
       "    }\n",
       "\n",
       "    .dataframe thead th {\n",
       "        text-align: right;\n",
       "    }\n",
       "</style>\n",
       "<table border=\"1\" class=\"dataframe\">\n",
       "  <thead>\n",
       "    <tr style=\"text-align: right;\">\n",
       "      <th></th>\n",
       "      <th>review_id</th>\n",
       "      <th>product_id</th>\n",
       "      <th>reviewer_id</th>\n",
       "      <th>stars</th>\n",
       "      <th>review_body</th>\n",
       "      <th>review_title</th>\n",
       "      <th>language</th>\n",
       "      <th>product_category</th>\n",
       "    </tr>\n",
       "  </thead>\n",
       "  <tbody>\n",
       "    <tr>\n",
       "      <th>0</th>\n",
       "      <td>en_0964290</td>\n",
       "      <td>product_en_0740675</td>\n",
       "      <td>reviewer_en_0342986</td>\n",
       "      <td>1</td>\n",
       "      <td>Arrived broken. Manufacturer defect. Two of th...</td>\n",
       "      <td>I'll spend twice the amount of time boxing up ...</td>\n",
       "      <td>en</td>\n",
       "      <td>furniture</td>\n",
       "    </tr>\n",
       "    <tr>\n",
       "      <th>1</th>\n",
       "      <td>en_0690095</td>\n",
       "      <td>product_en_0440378</td>\n",
       "      <td>reviewer_en_0133349</td>\n",
       "      <td>1</td>\n",
       "      <td>the cabinet dot were all detached from backing...</td>\n",
       "      <td>Not use able</td>\n",
       "      <td>en</td>\n",
       "      <td>home_improvement</td>\n",
       "    </tr>\n",
       "    <tr>\n",
       "      <th>2</th>\n",
       "      <td>en_0311558</td>\n",
       "      <td>product_en_0399702</td>\n",
       "      <td>reviewer_en_0152034</td>\n",
       "      <td>1</td>\n",
       "      <td>I received my first order of this product and ...</td>\n",
       "      <td>The product is junk.</td>\n",
       "      <td>en</td>\n",
       "      <td>home</td>\n",
       "    </tr>\n",
       "    <tr>\n",
       "      <th>3</th>\n",
       "      <td>en_0044972</td>\n",
       "      <td>product_en_0444063</td>\n",
       "      <td>reviewer_en_0656967</td>\n",
       "      <td>1</td>\n",
       "      <td>This product is a piece of shit. Do not buy. D...</td>\n",
       "      <td>Fucking waste of money</td>\n",
       "      <td>en</td>\n",
       "      <td>wireless</td>\n",
       "    </tr>\n",
       "    <tr>\n",
       "      <th>4</th>\n",
       "      <td>en_0784379</td>\n",
       "      <td>product_en_0139353</td>\n",
       "      <td>reviewer_en_0757638</td>\n",
       "      <td>1</td>\n",
       "      <td>went through 3 in one day doesn't fit correct ...</td>\n",
       "      <td>bubble</td>\n",
       "      <td>en</td>\n",
       "      <td>pc</td>\n",
       "    </tr>\n",
       "  </tbody>\n",
       "</table>\n",
       "</div>"
      ],
      "text/plain": [
       "    review_id          product_id          reviewer_id  stars  \\\n",
       "0  en_0964290  product_en_0740675  reviewer_en_0342986      1   \n",
       "1  en_0690095  product_en_0440378  reviewer_en_0133349      1   \n",
       "2  en_0311558  product_en_0399702  reviewer_en_0152034      1   \n",
       "3  en_0044972  product_en_0444063  reviewer_en_0656967      1   \n",
       "4  en_0784379  product_en_0139353  reviewer_en_0757638      1   \n",
       "\n",
       "                                         review_body  \\\n",
       "0  Arrived broken. Manufacturer defect. Two of th...   \n",
       "1  the cabinet dot were all detached from backing...   \n",
       "2  I received my first order of this product and ...   \n",
       "3  This product is a piece of shit. Do not buy. D...   \n",
       "4  went through 3 in one day doesn't fit correct ...   \n",
       "\n",
       "                                        review_title language  \\\n",
       "0  I'll spend twice the amount of time boxing up ...       en   \n",
       "1                                       Not use able       en   \n",
       "2                               The product is junk.       en   \n",
       "3                             Fucking waste of money       en   \n",
       "4                                             bubble       en   \n",
       "\n",
       "   product_category  \n",
       "0         furniture  \n",
       "1  home_improvement  \n",
       "2              home  \n",
       "3          wireless  \n",
       "4                pc  "
      ]
     },
     "execution_count": 3,
     "metadata": {},
     "output_type": "execute_result"
    }
   ],
   "source": [
    "df.head()"
   ]
  },
  {
   "cell_type": "code",
   "execution_count": 4,
   "id": "cfe691dd",
   "metadata": {},
   "outputs": [
    {
     "data": {
      "text/plain": [
       "(200000, 8)"
      ]
     },
     "execution_count": 4,
     "metadata": {},
     "output_type": "execute_result"
    }
   ],
   "source": [
    "df.shape"
   ]
  },
  {
   "cell_type": "code",
   "execution_count": null,
   "id": "0d604396",
   "metadata": {},
   "outputs": [],
   "source": [
    "df.dtypes"
   ]
  },
  {
   "cell_type": "code",
   "execution_count": null,
   "id": "84b31afc",
   "metadata": {},
   "outputs": [],
   "source": [
    "df.info()"
   ]
  },
  {
   "cell_type": "code",
   "execution_count": null,
   "id": "49f947ac",
   "metadata": {},
   "outputs": [],
   "source": [
    "df.isna().sum()"
   ]
  },
  {
   "cell_type": "markdown",
   "id": "9276525d",
   "metadata": {},
   "source": []
  },
  {
   "cell_type": "code",
   "execution_count": null,
   "id": "572c912e",
   "metadata": {},
   "outputs": [],
   "source": []
  },
  {
   "cell_type": "code",
   "execution_count": null,
   "id": "ee3e0dc6",
   "metadata": {},
   "outputs": [],
   "source": [
    "df.describe()"
   ]
  },
  {
   "cell_type": "code",
   "execution_count": 18,
   "id": "f4a0ac4d",
   "metadata": {},
   "outputs": [
    {
     "name": "stderr",
     "output_type": "stream",
     "text": [
      "/usr/local/lib/python3.9/site-packages/seaborn/categorical.py:3717: UserWarning: The `factorplot` function has been renamed to `catplot`. The original name will be removed in a future release. Please update your code. Note that the default `kind` in `factorplot` (`'point'`) has changed `'strip'` in `catplot`.\n",
      "  warnings.warn(msg)\n",
      "/usr/local/lib/python3.9/site-packages/seaborn/_decorators.py:36: FutureWarning: Pass the following variable as a keyword arg: x. From version 0.12, the only valid positional argument will be `data`, and passing other arguments without an explicit keyword will result in an error or misinterpretation.\n",
      "  warnings.warn(\n"
     ]
    },
    {
     "data": {
      "text/plain": [
       "<seaborn.axisgrid.FacetGrid at 0x133ff1f70>"
      ]
     },
     "execution_count": 18,
     "metadata": {},
     "output_type": "execute_result"
    },
    {
     "data": {
      "image/png": "[encoded data removed]",
      "text/plain": [
       "<Figure size 360x360 with 1 Axes>"
      ]
     },
     "metadata": {
      "needs_background": "light"
     },
     "output_type": "display_data"
    }
   ],
   "source": [
    "g = sns.factorplot(\"stars\", data=df,kind='count')\n",
    "g.set_ylabels(\"Total number of ratings\")"
   ]
  },
  {
   "cell_type": "code",
   "execution_count": 22,
   "id": "fcff0628",
   "metadata": {},
   "outputs": [],
   "source": [
    "df_rat1 = df[df.stars == 1].head(10000)\n",
    "df_rat2 = df[df.stars == 2].head(10000)\n",
    "df_rat3 = df[df.stars == 3].head(10000)\n",
    "df_rat4 = df[df.stars == 4].head(10000)\n",
    "df_rat5 = df[df.stars == 5].head(10000)"
   ]
  },
  {
   "cell_type": "code",
   "execution_count": 20,
   "id": "40c7cdfe",
   "metadata": {},
   "outputs": [
    {
     "data": {
      "text/plain": [
       "(40000, 8)"
      ]
     },
     "execution_count": 20,
     "metadata": {},
     "output_type": "execute_result"
    }
   ],
   "source": [
    "final = pd.concat([df_rat1, df_rat2, df_rat3, df_rat4, df_rat5])"
   ]
  },
  {
   "cell_type": "code",
   "execution_count": null,
   "id": "b8edac39",
   "metadata": {},
   "outputs": [],
   "source": [
    "\n",
    "print(\"\\nTotal no of ratings :\",df.shape[0])\n",
    "print(\"Total No of Users   :\", len(np.unique(df.reviewer_id)))\n",
    "print(\"Total No of products  :\", len(np.unique(df.product_id)))"
   ]
  },
  {
   "cell_type": "code",
   "execution_count": null,
   "id": "5b497a5f",
   "metadata": {},
   "outputs": [],
   "source": []
  },
  {
   "cell_type": "code",
   "execution_count": 25,
   "id": "5036c223",
   "metadata": {},
   "outputs": [
    {
     "data": {
      "text/plain": [
       "reviewer_id\n",
       "reviewer_en_0857640    5\n",
       "reviewer_en_0953455    4\n",
       "reviewer_en_0078203    4\n",
       "reviewer_en_0358974    4\n",
       "reviewer_en_0115189    4\n",
       "Name: stars, dtype: int64"
      ]
     },
     "execution_count": 25,
     "metadata": {},
     "output_type": "execute_result"
    }
   ],
   "source": [
    "reviews_per_user = df.groupby(by='reviewer_id')['stars'].count().sort_values(ascending=False)\n",
    "\n",
    "reviews_per_user.head()"
   ]
  },
  {
   "cell_type": "code",
   "execution_count": 26,
   "id": "337802a0",
   "metadata": {},
   "outputs": [
    {
     "data": {
      "text/plain": [
       "count    196745.000000\n",
       "mean          1.016544\n",
       "std           0.134122\n",
       "min           1.000000\n",
       "25%           1.000000\n",
       "50%           1.000000\n",
       "75%           1.000000\n",
       "max           5.000000\n",
       "Name: stars, dtype: float64"
      ]
     },
     "execution_count": 26,
     "metadata": {},
     "output_type": "execute_result"
    }
   ],
   "source": [
    "reviews_per_user.describe()"
   ]
  },
  {
   "cell_type": "code",
   "execution_count": null,
   "id": "fcef09bb",
   "metadata": {},
   "outputs": [],
   "source": []
  },
  {
   "cell_type": "code",
   "execution_count": null,
   "id": "fabfb50b",
   "metadata": {},
   "outputs": [],
   "source": [
    "# review_matrix = df.pivot_table(values='stars', index='reviewer_id', columns='product_id')"
   ]
  },
  {
   "cell_type": "code",
   "execution_count": null,
   "id": "a939611d",
   "metadata": {},
   "outputs": [],
   "source": []
  },
  {
   "cell_type": "markdown",
   "id": "b1419556",
   "metadata": {},
   "source": [
    "## product category classification using reviews"
   ]
  },
  {
   "cell_type": "markdown",
   "id": "08bad1e6",
   "metadata": {},
   "source": [
    "### I tried to use spacy for this but then I went with a shorter approach with the time in mind\n",
    "\n",
    "### here, am using a simple CountVectorizer to create an embedding for each of the product review and then using it to do the classification using Naive Bayes classifier.\n",
    "\n",
    "### I was really running behind so I didn't have time to implement Spacy or other advanced NLP techniques"
   ]
  },
  {
   "cell_type": "code",
   "execution_count": null,
   "id": "f86477e6",
   "metadata": {},
   "outputs": [],
   "source": []
  },
  {
   "cell_type": "code",
   "execution_count": 27,
   "id": "26ab7317",
   "metadata": {},
   "outputs": [],
   "source": [
    "# making numeric labels out of string labels\n",
    "\n",
    "labels = df['product_category'].unique()\n",
    "i = 0\n",
    "idx2class = {}\n",
    "class2idx = {}\n",
    "for tp in labels:\n",
    "    idx2class[i] = tp\n",
    "    class2idx[tp] = i\n",
    "    i += 1"
   ]
  },
  {
   "cell_type": "code",
   "execution_count": null,
   "id": "f00ce9cb",
   "metadata": {},
   "outputs": [],
   "source": [
    "df['label'] = df['product_category'].replace(class2idx)"
   ]
  },
  {
   "cell_type": "code",
   "execution_count": null,
   "id": "b554dde1",
   "metadata": {},
   "outputs": [],
   "source": [
    "df['review_body'].str.len().max()"
   ]
  },
  {
   "cell_type": "code",
   "execution_count": null,
   "id": "21de6eed",
   "metadata": {},
   "outputs": [],
   "source": [
    "df['review_body'].str.len().min()"
   ]
  },
  {
   "cell_type": "code",
   "execution_count": null,
   "id": "773e6163",
   "metadata": {},
   "outputs": [],
   "source": [
    "# cutting short the length of the review to make it work on a local machine\n",
    "\n",
    "df['review_body_100'] = df['review_body'].str.slice(0,100)"
   ]
  },
  {
   "cell_type": "code",
   "execution_count": null,
   "id": "290e5651",
   "metadata": {},
   "outputs": [],
   "source": []
  },
  {
   "cell_type": "code",
   "execution_count": null,
   "id": "d5eccf40",
   "metadata": {},
   "outputs": [],
   "source": [
    "df['review_body_100'].str.len().max()"
   ]
  },
  {
   "cell_type": "code",
   "execution_count": null,
   "id": "8dbfaa82",
   "metadata": {},
   "outputs": [],
   "source": []
  },
  {
   "cell_type": "code",
   "execution_count": null,
   "id": "fddb9cbd",
   "metadata": {},
   "outputs": [],
   "source": [
    "df.product_category.value_counts().to_frame()"
   ]
  },
  {
   "cell_type": "code",
   "execution_count": null,
   "id": "0b1d6f9f",
   "metadata": {},
   "outputs": [],
   "source": [
    "count_vec = CountVectorizer()\n",
    "bow = count_vec.fit_transform(df['review_body_100'])\n",
    "bow = np.array(bow.todense())"
   ]
  },
  {
   "cell_type": "code",
   "execution_count": null,
   "id": "3c08504e",
   "metadata": {},
   "outputs": [],
   "source": [
    "X = bow # The features we want to analyse\n",
    "y = df['label'] # The labels, in this case feedback"
   ]
  },
  {
   "cell_type": "code",
   "execution_count": null,
   "id": "60b16a3d",
   "metadata": {},
   "outputs": [],
   "source": [
    "X_train, X_val, y_train, y_val = train_test_split(X, y, test_size=0.2, random_state=1)"
   ]
  },
  {
   "cell_type": "code",
   "execution_count": null,
   "id": "aa7a72e9",
   "metadata": {},
   "outputs": [],
   "source": [
    "model = MultinomialNB().fit(X_train, y_train)"
   ]
  },
  {
   "cell_type": "code",
   "execution_count": null,
   "id": "82c31ae8",
   "metadata": {},
   "outputs": [],
   "source": [
    "y_pred = model.predict(X_test)\n",
    "accuracy_score(y_test, y_pred)"
   ]
  },
  {
   "cell_type": "code",
   "execution_count": null,
   "id": "d66ff955",
   "metadata": {},
   "outputs": [],
   "source": []
  },
  {
   "cell_type": "code",
   "execution_count": null,
   "id": "736774b9",
   "metadata": {},
   "outputs": [],
   "source": []
  },
  {
   "cell_type": "code",
   "execution_count": null,
   "id": "58a5b70d",
   "metadata": {},
   "outputs": [],
   "source": []
  },
  {
   "cell_type": "code",
   "execution_count": null,
   "id": "ef473cdf",
   "metadata": {},
   "outputs": [],
   "source": []
  },
  {
   "cell_type": "code",
   "execution_count": null,
   "id": "500ff2b5",
   "metadata": {},
   "outputs": [],
   "source": []
  },
  {
   "cell_type": "markdown",
   "id": "1dc503d0",
   "metadata": {},
   "source": [
    "## bonus task - recommendation"
   ]
  },
  {
   "cell_type": "markdown",
   "id": "01973d0c",
   "metadata": {},
   "source": [
    "### We have 196745 unique users and 185541 unique products. With 200k reviews, the review matrix is highly sparse. I am planning to use SVD for this kind of data."
   ]
  },
  {
   "cell_type": "code",
   "execution_count": null,
   "id": "7e161230",
   "metadata": {},
   "outputs": [],
   "source": []
  },
  {
   "cell_type": "code",
   "execution_count": 28,
   "id": "e1cceb8f",
   "metadata": {},
   "outputs": [],
   "source": [
    "min_rating = df.stars.min()\n",
    "max_rating = df.stars.max()"
   ]
  },
  {
   "cell_type": "code",
   "execution_count": 29,
   "id": "e6ff3a83",
   "metadata": {},
   "outputs": [],
   "source": [
    "reader = Reader(rating_scale=(min_rating, max_rating))\n",
    "data = Dataset.load_from_df(df[['reviewer_id', 'product_id', 'stars']], reader)"
   ]
  },
  {
   "cell_type": "code",
   "execution_count": null,
   "id": "7de96093",
   "metadata": {},
   "outputs": [],
   "source": []
  },
  {
   "cell_type": "code",
   "execution_count": 8,
   "id": "c346750d",
   "metadata": {},
   "outputs": [],
   "source": [
    "svd = SVD(n_epochs=10)\n",
    "results = cross_validate(svd, data, measures=['RMSE', 'MAE'], cv=10, verbose=True)"
   ]
  },
  {
   "cell_type": "code",
   "execution_count": null,
   "id": "f4bb6983",
   "metadata": {},
   "outputs": [],
   "source": [
    "print(\"Average MAE: \", np.average(results[\"test_mae\"]))\n",
    "print(\"Average RMSE: \", np.average(results[\"test_rmse\"]))"
   ]
  },
  {
   "cell_type": "code",
   "execution_count": null,
   "id": "7b9f8ef6",
   "metadata": {},
   "outputs": [],
   "source": []
  },
  {
   "cell_type": "code",
   "execution_count": null,
   "id": "3b7b682f",
   "metadata": {},
   "outputs": [],
   "source": [
    "# param_grid = {\n",
    "#   'n_factors': [20, 50, 100],\n",
    "#   'n_epochs': [5, 10, 20]\n",
    "# }\n",
    " \n",
    "# grid = GridSearchCV(SVD, param_grid, measures=['rmse', 'mae'], cv=10)\n",
    "# grid.fit(data)\n",
    " \n",
    "# print(grid.best_score['rmse'])\n",
    "# print(grid.best_params['rmse'])\n",
    "\n"
   ]
  },
  {
   "cell_type": "markdown",
   "id": "71a49665",
   "metadata": {},
   "source": [
    "## best params were 20; 20 as a result of the grid search above"
   ]
  },
  {
   "cell_type": "code",
   "execution_count": null,
   "id": "db4f3927",
   "metadata": {},
   "outputs": [],
   "source": []
  },
  {
   "cell_type": "code",
   "execution_count": 10,
   "id": "25e0a639",
   "metadata": {},
   "outputs": [
    {
     "data": {
      "text/plain": [
       "<surprise.prediction_algorithms.matrix_factorization.SVD at 0x133832a30>"
      ]
     },
     "execution_count": 10,
     "metadata": {},
     "output_type": "execute_result"
    }
   ],
   "source": [
    "# converting dataset to trainset: It's a \"Surprise\" thing\n",
    "trainset = data.build_full_trainset()\n",
    "\n",
    "# best hyperparameters\n",
    "# best_factor = grid.best_params['rmse']['n_factors']\n",
    "# best_epoch = grid.best_params['rmse']['n_epochs']\n",
    "\n",
    "best_factor = 20\n",
    "best_epoch = 20\n",
    "\n",
    "svd = SVD(n_factors=best_factor, n_epochs=best_epoch)\n",
    " \n",
    "# Train the algorithm on the trainset\n",
    "svd.fit(trainset)"
   ]
  },
  {
   "cell_type": "code",
   "execution_count": null,
   "id": "e7a023bc",
   "metadata": {},
   "outputs": [],
   "source": []
  },
  {
   "cell_type": "code",
   "execution_count": 11,
   "id": "0626b4f5",
   "metadata": {},
   "outputs": [
    {
     "data": {
      "text/plain": [
       "array(['product_en_0740675', 'product_en_0440378', 'product_en_0399702',\n",
       "       ..., 'product_en_0402982', 'product_en_0873374',\n",
       "       'product_en_0843981'], dtype=object)"
      ]
     },
     "execution_count": 11,
     "metadata": {},
     "output_type": "execute_result"
    }
   ],
   "source": [
    "df['product_id'].unique()"
   ]
  },
  {
   "cell_type": "code",
   "execution_count": 12,
   "id": "06bbae3b",
   "metadata": {},
   "outputs": [
    {
     "data": {
      "text/html": [
       "<div>\n",
       "<style scoped>\n",
       "    .dataframe tbody tr th:only-of-type {\n",
       "        vertical-align: middle;\n",
       "    }\n",
       "\n",
       "    .dataframe tbody tr th {\n",
       "        vertical-align: top;\n",
       "    }\n",
       "\n",
       "    .dataframe thead th {\n",
       "        text-align: right;\n",
       "    }\n",
       "</style>\n",
       "<table border=\"1\" class=\"dataframe\">\n",
       "  <thead>\n",
       "    <tr style=\"text-align: right;\">\n",
       "      <th></th>\n",
       "      <th>review_id</th>\n",
       "      <th>product_id</th>\n",
       "      <th>reviewer_id</th>\n",
       "      <th>stars</th>\n",
       "      <th>review_body</th>\n",
       "      <th>review_title</th>\n",
       "      <th>language</th>\n",
       "      <th>product_category</th>\n",
       "    </tr>\n",
       "  </thead>\n",
       "  <tbody>\n",
       "    <tr>\n",
       "      <th>0</th>\n",
       "      <td>en_0964290</td>\n",
       "      <td>product_en_0740675</td>\n",
       "      <td>reviewer_en_0342986</td>\n",
       "      <td>1</td>\n",
       "      <td>Arrived broken. Manufacturer defect. Two of th...</td>\n",
       "      <td>I'll spend twice the amount of time boxing up ...</td>\n",
       "      <td>en</td>\n",
       "      <td>furniture</td>\n",
       "    </tr>\n",
       "    <tr>\n",
       "      <th>1</th>\n",
       "      <td>en_0690095</td>\n",
       "      <td>product_en_0440378</td>\n",
       "      <td>reviewer_en_0133349</td>\n",
       "      <td>1</td>\n",
       "      <td>the cabinet dot were all detached from backing...</td>\n",
       "      <td>Not use able</td>\n",
       "      <td>en</td>\n",
       "      <td>home_improvement</td>\n",
       "    </tr>\n",
       "    <tr>\n",
       "      <th>2</th>\n",
       "      <td>en_0311558</td>\n",
       "      <td>product_en_0399702</td>\n",
       "      <td>reviewer_en_0152034</td>\n",
       "      <td>1</td>\n",
       "      <td>I received my first order of this product and ...</td>\n",
       "      <td>The product is junk.</td>\n",
       "      <td>en</td>\n",
       "      <td>home</td>\n",
       "    </tr>\n",
       "    <tr>\n",
       "      <th>3</th>\n",
       "      <td>en_0044972</td>\n",
       "      <td>product_en_0444063</td>\n",
       "      <td>reviewer_en_0656967</td>\n",
       "      <td>1</td>\n",
       "      <td>This product is a piece of shit. Do not buy. D...</td>\n",
       "      <td>Fucking waste of money</td>\n",
       "      <td>en</td>\n",
       "      <td>wireless</td>\n",
       "    </tr>\n",
       "    <tr>\n",
       "      <th>4</th>\n",
       "      <td>en_0784379</td>\n",
       "      <td>product_en_0139353</td>\n",
       "      <td>reviewer_en_0757638</td>\n",
       "      <td>1</td>\n",
       "      <td>went through 3 in one day doesn't fit correct ...</td>\n",
       "      <td>bubble</td>\n",
       "      <td>en</td>\n",
       "      <td>pc</td>\n",
       "    </tr>\n",
       "  </tbody>\n",
       "</table>\n",
       "</div>"
      ],
      "text/plain": [
       "    review_id          product_id          reviewer_id  stars  \\\n",
       "0  en_0964290  product_en_0740675  reviewer_en_0342986      1   \n",
       "1  en_0690095  product_en_0440378  reviewer_en_0133349      1   \n",
       "2  en_0311558  product_en_0399702  reviewer_en_0152034      1   \n",
       "3  en_0044972  product_en_0444063  reviewer_en_0656967      1   \n",
       "4  en_0784379  product_en_0139353  reviewer_en_0757638      1   \n",
       "\n",
       "                                         review_body  \\\n",
       "0  Arrived broken. Manufacturer defect. Two of th...   \n",
       "1  the cabinet dot were all detached from backing...   \n",
       "2  I received my first order of this product and ...   \n",
       "3  This product is a piece of shit. Do not buy. D...   \n",
       "4  went through 3 in one day doesn't fit correct ...   \n",
       "\n",
       "                                        review_title language  \\\n",
       "0  I'll spend twice the amount of time boxing up ...       en   \n",
       "1                                       Not use able       en   \n",
       "2                               The product is junk.       en   \n",
       "3                             Fucking waste of money       en   \n",
       "4                                             bubble       en   \n",
       "\n",
       "   product_category  \n",
       "0         furniture  \n",
       "1  home_improvement  \n",
       "2              home  \n",
       "3          wireless  \n",
       "4                pc  "
      ]
     },
     "execution_count": 12,
     "metadata": {},
     "output_type": "execute_result"
    }
   ],
   "source": [
    "df.head()"
   ]
  },
  {
   "cell_type": "code",
   "execution_count": 16,
   "id": "0855507a",
   "metadata": {},
   "outputs": [],
   "source": [
    "total_prods = df['product_id'].unique()"
   ]
  },
  {
   "cell_type": "code",
   "execution_count": 15,
   "id": "e776ed23",
   "metadata": {},
   "outputs": [],
   "source": [
    "reviewed_prods = df.loc[df['reviewer_id'] == 'reviewer_en_0342986', \"product_id\"]"
   ]
  },
  {
   "cell_type": "code",
   "execution_count": 17,
   "id": "8d72a1ae",
   "metadata": {},
   "outputs": [
    {
     "data": {
      "text/plain": [
       "array(['product_en_0000010', 'product_en_0000012', 'product_en_0000013',\n",
       "       ..., 'product_en_0999984', 'product_en_0999987',\n",
       "       'product_en_0999988'], dtype=object)"
      ]
     },
     "execution_count": 17,
     "metadata": {},
     "output_type": "execute_result"
    }
   ],
   "source": [
    "np.setdiff1d(total_prods, reviewed_prods)"
   ]
  },
  {
   "cell_type": "code",
   "execution_count": null,
   "id": "c4a7dd21",
   "metadata": {},
   "outputs": [],
   "source": []
  },
  {
   "cell_type": "markdown",
   "id": "47f1e821",
   "metadata": {},
   "source": [
    "### generating recommendation for a reviewer"
   ]
  },
  {
   "cell_type": "code",
   "execution_count": 24,
   "id": "9d794812",
   "metadata": {},
   "outputs": [
    {
     "name": "stdout",
     "output_type": "stream",
     "text": [
      "Top 10 item recommendations for user reviewer_en_0342986:\n",
      "product_en_0300119 3.4014368468205354\n",
      "product_en_0591465 3.397451108705214\n",
      "product_en_0051923 3.343636356089496\n",
      "product_en_0878156 3.3364925853563845\n",
      "product_en_0019714 3.3296992515264936\n",
      "product_en_0586296 3.324148618271177\n",
      "product_en_0210429 3.315949341574141\n",
      "product_en_0965309 3.314791126620845\n",
      "product_en_0995776 3.3045761992307288\n",
      "product_en_0221087 3.2997161212152526\n"
     ]
    }
   ],
   "source": [
    "def generate_recommendation(model, reviewer_id, df, n_items):\n",
    "    \n",
    "    # Get a list of all movie IDs from dataset\n",
    "    # movie_ids = ratings_df[\"movieId\"].unique()\n",
    "    total_prods = df['product_id'].unique()\n",
    "\n",
    "    # Get a list of all movie IDs that have been watched by user\n",
    "    # movie_ids_user = ratings_df.loc[ratings_df[\"userId\"] == user_id, \"movieId\"]\n",
    "    reviewed_prods = df.loc[df['reviewer_id'] == 'reviewer_en_0342986', \"product_id\"]\n",
    "    \n",
    "    # Get a list off all movie IDS that that have not been watched by user\n",
    "    prods_to_pred = np.setdiff1d(total_prods, reviewed_prods)\n",
    "    \n",
    "\n",
    "    # Apply a rating of 3 to all interactions (only to match the Surprise dataset format)\n",
    "    test_set = [[reviewer_id, product_id, 3] for product_id in prods_to_pred]\n",
    "\n",
    "    # Predict the ratings and generate recommendations\n",
    "    predictions = model.test(test_set)\n",
    "    pred_ratings = np.array([pred.est for pred in predictions])\n",
    "    print(\"Top {0} item recommendations for user {1}:\".format(n_items, reviewer_id))\n",
    "    # Rank top-n movies based on the predicted ratings\n",
    "    index_max = (-pred_ratings).argsort()[:n_items]\n",
    "    for i in index_max:\n",
    "        prod_id = prods_to_pred[i]\n",
    "        print(df[df[\"product_id\"]==prod_id][\"product_id\"].values[0], pred_ratings[i])\n",
    " \n",
    " \n",
    "# define which user ID that we want to give recommendation\n",
    "reviewer_id = 'reviewer_en_0342986'\n",
    "# define how many top-n movies that we want to recommend\n",
    "n_items = 10\n",
    "# generate recommendation using the model that we have trained\n",
    "generate_recommendation(svd,reviewer_id,df,n_items)"
   ]
  },
  {
   "cell_type": "code",
   "execution_count": null,
   "id": "94a6f3b4",
   "metadata": {},
   "outputs": [],
   "source": []
  },
  {
   "cell_type": "code",
   "execution_count": null,
   "id": "97737a40",
   "metadata": {},
   "outputs": [],
   "source": []
  },
  {
   "cell_type": "code",
   "execution_count": null,
   "id": "3deb2995",
   "metadata": {},
   "outputs": [],
   "source": []
  },
  {
   "cell_type": "code",
   "execution_count": null,
   "id": "f2f83a49",
   "metadata": {},
   "outputs": [],
   "source": []
  },
  {
   "cell_type": "code",
   "execution_count": null,
   "id": "c65b02a7",
   "metadata": {},
   "outputs": [],
   "source": []
  },
  {
   "cell_type": "markdown",
   "id": "c1864001",
   "metadata": {},
   "source": [
    "## using spacy"
   ]
  },
  {
   "cell_type": "code",
   "execution_count": null,
   "id": "5f213d97",
   "metadata": {},
   "outputs": [],
   "source": [
    "punctuations = string.punctuation\n",
    "nlp = spacy.load(\"en_core_web_sm\")\n",
    "stop_words = spacy.lang.en.stop_words.STOP_WORDS\n",
    "lemmatizer = spacy.lang.en.English()\n",
    "parser = English()"
   ]
  },
  {
   "cell_type": "code",
   "execution_count": null,
   "id": "46025515",
   "metadata": {},
   "outputs": [],
   "source": []
  },
  {
   "cell_type": "code",
   "execution_count": null,
   "id": "4c3daf4c",
   "metadata": {},
   "outputs": [],
   "source": []
  },
  {
   "cell_type": "code",
   "execution_count": null,
   "id": "b2a30a50",
   "metadata": {},
   "outputs": [],
   "source": [
    "def my_preprocessor(doc):\n",
    "    return(unescape(doc).lower())\n",
    "\n",
    "# tokenize the doc and lemmatize its tokens\n",
    "def my_tokenizer(doc):\n",
    "    tokens = lemmatizer(doc)\n",
    "    return([token.lemma_ for token in tokens])"
   ]
  },
  {
   "cell_type": "code",
   "execution_count": null,
   "id": "a27d2df4",
   "metadata": {},
   "outputs": [],
   "source": [
    "custom_vec = CountVectorizer(preprocessor=my_preprocessor, tokenizer=my_tokenizer)"
   ]
  },
  {
   "cell_type": "code",
   "execution_count": null,
   "id": "49d6453c",
   "metadata": {},
   "outputs": [],
   "source": []
  },
  {
   "cell_type": "code",
   "execution_count": null,
   "id": "960ddb94",
   "metadata": {},
   "outputs": [],
   "source": []
  },
  {
   "cell_type": "code",
   "execution_count": null,
   "id": "363b41be",
   "metadata": {},
   "outputs": [],
   "source": []
  },
  {
   "cell_type": "code",
   "execution_count": null,
   "id": "75d54f4a",
   "metadata": {},
   "outputs": [],
   "source": [
    "def spacy_tokenizer(sentence):\n",
    "    \n",
    "    # Creating our token object which is used to create documents with linguistic annotations\n",
    "    print (sentence)\n",
    "    mytokens = parser(sentence)\n",
    "    \n",
    "    print (mytokens)\n",
    "    \n",
    "    # lemmatizing each token and converting each token in lower case\n",
    "    # Note that spaCy uses '-PRON-' as lemma for all personal pronouns lkike me, I etc\n",
    "    mytokens = [ word.lemma_.lower().strip() if word.lemma_ != \"-PRON-\" else word.lower_ for word in mytokens ]\n",
    "    \n",
    "    print (mytokens)\n",
    "    \n",
    "    # Removing stop words\n",
    "    mytokens = [ word for word in mytokens if word not in stop_words and word not in punctuations]\n",
    "    \n",
    "    # Return preprocessed list of tokens\n",
    "    return mytokens"
   ]
  },
  {
   "cell_type": "code",
   "execution_count": null,
   "id": "9eb9d716",
   "metadata": {},
   "outputs": [],
   "source": [
    "spacy_tokenizer(\"Does not play with with the two cases i bought\")"
   ]
  },
  {
   "cell_type": "code",
   "execution_count": null,
   "id": "c1e4bb17",
   "metadata": {},
   "outputs": [],
   "source": [
    "# Custom transformer using spaCy\n",
    "class predictors(TransformerMixin):\n",
    "    def transform(self, X, **transform_params):\n",
    "        \"\"\"Override the transform method to clean text\"\"\"\n",
    "        return [clean_text(text) for text in X]\n",
    "    \n",
    "    def fit(self, X, y= None, **fit_params):\n",
    "        return self\n",
    "    \n",
    "    def get_params(self, deep= True):\n",
    "        return {}\n",
    "\n",
    "# Basic function to clean the text\n",
    "def clean_text(text):\n",
    "    \"\"\"Removing spaces and converting the text into lowercase\"\"\"\n",
    "    return text.strip().lower() "
   ]
  },
  {
   "cell_type": "code",
   "execution_count": null,
   "id": "62ceb13d",
   "metadata": {},
   "outputs": [],
   "source": [
    "bow_vector = CountVectorizer(tokenizer = spacy_tokenizer, ngram_range = (1,1))"
   ]
  },
  {
   "cell_type": "code",
   "execution_count": null,
   "id": "be12535e",
   "metadata": {},
   "outputs": [],
   "source": [
    "tfidf_vector = TfidfVectorizer(tokenizer = spacy_tokenizer)"
   ]
  },
  {
   "cell_type": "code",
   "execution_count": null,
   "id": "b03a8d37",
   "metadata": {},
   "outputs": [],
   "source": []
  },
  {
   "cell_type": "code",
   "execution_count": null,
   "id": "19e2ea58",
   "metadata": {},
   "outputs": [],
   "source": []
  },
  {
   "cell_type": "code",
   "execution_count": null,
   "id": "03566747",
   "metadata": {},
   "outputs": [],
   "source": [
    "X = df['review_body'] # The features we want to analyse\n",
    "y = df['product_category'] # The labels, in this case feedback"
   ]
  },
  {
   "cell_type": "code",
   "execution_count": null,
   "id": "7a049df6",
   "metadata": {},
   "outputs": [],
   "source": [
    "X[1]"
   ]
  },
  {
   "cell_type": "code",
   "execution_count": null,
   "id": "77a4b4fb",
   "metadata": {},
   "outputs": [],
   "source": [
    "X_train, X_val, y_train, y_val = train_test_split(X, y, test_size=0.2, random_state=1)"
   ]
  },
  {
   "cell_type": "code",
   "execution_count": null,
   "id": "a76bfb88",
   "metadata": {},
   "outputs": [],
   "source": [
    "\n",
    "\n",
    "classifier = LogisticRegression()\n",
    "\n",
    "# Create pipeline using Bag of Words\n",
    "pipe = Pipeline ([(\"cleaner\", predictors()),\n",
    "                 (\"vectorizer\", bow_vector),\n",
    "                 (\"classifier\", classifier)])\n",
    "\n",
    "# Model generation\n",
    "pipe.fit(X_train, y_train)"
   ]
  }
 ],
 "metadata": {
  "kernelspec": {
   "display_name": "Python 3 (ipykernel)",
   "language": "python",
   "name": "python3"
  },
  "language_info": {
   "codemirror_mode": {
    "name": "ipython",
    "version": 3
   },
   "file_extension": ".py",
   "mimetype": "text/x-python",
   "name": "python",
   "nbconvert_exporter": "python",
   "pygments_lexer": "ipython3",
   "version": "3.9.13"
  }
 },
 "nbformat": 4,
 "nbformat_minor": 5
}
